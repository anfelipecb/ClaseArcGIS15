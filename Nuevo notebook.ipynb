{
 "cells": [
  {
   "cell_type": "markdown",
   "metadata": {},
   "source": [
    "# Clase 14:\n",
    "\n",
    "## Parte 1\n",
    "\n",
    "En esta clase aprenderemos: \n",
    "- Usar python\n",
    "- Integrar Python con ArcGIS\n",
    "- Usar Chat GPT para ambas cosas\n",
    "\n"
   ]
  },
  {
   "cell_type": "code",
   "execution_count": 1,
   "metadata": {},
   "outputs": [
    {
     "name": "stdout",
     "output_type": "stream",
     "text": [
      "Python version: 3.9.11\n"
     ]
    }
   ],
   "source": [
    "import platform\n",
    "\n",
    "# Print the Python version\n",
    "print(\"Python version:\", platform.python_version())\n"
   ]
  },
  {
   "cell_type": "code",
   "execution_count": 2,
   "metadata": {},
   "outputs": [
    {
     "name": "stdout",
     "output_type": "stream",
     "text": [
      "Directorio actual: C:\\Users\\af.camacho1169\\Documents\\ArcGIS\\Projects\\MyProject\n"
     ]
    }
   ],
   "source": [
    "import os\n",
    "\n",
    "# Obtener el directorio de trabajo actual\n",
    "current_directory = os.getcwd()\n",
    "\n",
    "print(\"Directorio actual:\", current_directory)\n"
   ]
  },
  {
   "cell_type": "code",
   "execution_count": 3,
   "metadata": {},
   "outputs": [
    {
     "ename": "TypeError",
     "evalue": "'NoneType' object is not iterable",
     "output_type": "error",
     "traceback": [
      "\u001b[0;31m---------------------------------------------------------------------------\u001b[0m\n\u001b[0;31mTypeError\u001b[0m                                 Traceback (most recent call last)",
      "In  \u001b[0;34m[3]\u001b[0m:\nLine \u001b[0;34m16\u001b[0m:    \u001b[34mfor\u001b[39;49;00m fc \u001b[35min\u001b[39;49;00m feature_classes:\n",
      "\u001b[0;31mTypeError\u001b[0m: 'NoneType' object is not iterable\n\u001b[0;31m---------------------------------------------------------------------------\u001b[0m"
     ]
    }
   ],
   "source": [
    "# Defino directorio principal\n",
    "import arcpy \n",
    "import os\n",
    "\n",
    "gdb_path=\"C:/Users/salas.UANDES.000/Downloads/start/Tornado.gdb\"\n",
    "# Set the workspace to your geodatabase\n",
    "arcpy.env.workspace = gdb_path\n",
    "\n",
    "#Lista de las objetos dentro de mi path\n",
    "feature_classes = arcpy.ListFeatureClasses()\n",
    "\n",
    "# Loop through each feature class and add it to the current map\n",
    "project = arcpy.mp.ArcGISProject(\"CURRENT\")\n",
    "map = project.listMaps()[0]  # Assuming you want to add to the first map in the project\n",
    "\n",
    "for fc in feature_classes:\n",
    "    layer = map.addDataFromPath(os.path.join(gdb_path, fc))\n",
    "    print(f\"Added {fc} to the map.\")\n",
    "\n"
   ]
  },
  {
   "cell_type": "code",
   "execution_count": 16,
   "metadata": {},
   "outputs": [
    {
     "name": "stdout",
     "output_type": "stream",
     "text": [
      "[<arcpy._mp.Map object at 0x000001F748A08F70>]\n"
     ]
    }
   ],
   "source": []
  }
 ],
 "metadata": {
  "kernelspec": {
   "display_name": "ArcGISPro",
   "language": "Python",
   "name": "python3"
  },
  "language_info": {
   "file_extension": ".py",
   "name": "python",
   "version": "3"
  }
 },
 "nbformat": 4,
 "nbformat_minor": 2
}
