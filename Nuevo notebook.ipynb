{
 "cells": [
  {
   "cell_type": "markdown",
   "metadata": {},
   "source": [
    "# Clase 14:\n",
    "\n",
    "## Parte 1\n",
    "\n",
    "En esta clase aprenderemos: \n",
    "- Usar python\n",
    "- Integrar Python con ArcGIS\n",
    "- Usar Chat GPT para ambas cosas\n",
    "\n"
   ]
  },
  {
   "cell_type": "code",
   "execution_count": 4,
   "metadata": {},
   "outputs": [
    {
     "name": "stdout",
     "output_type": "stream",
     "text": [
      "Python version: 3.9.11\n"
     ]
    }
   ],
   "source": [
    "import platform\n",
    "\n",
    "# Print the Python version\n",
    "print(\"Python version:\", platform.python_version())\n"
   ]
  },
  {
   "cell_type": "code",
   "execution_count": 5,
   "metadata": {},
   "outputs": [
    {
     "name": "stdout",
     "output_type": "stream",
     "text": [
      "Directorio actual: C:\\Users\\af.camacho1169\\Documents\\ArcGIS\\Projects\\MyProject\n"
     ]
    }
   ],
   "source": [
    "import os\n",
    "\n",
    "# Obtener el directorio de trabajo actual\n",
    "current_directory = os.getcwd()\n",
    "\n",
    "print(\"Directorio actual:\", current_directory)\n"
   ]
  },
  {
   "cell_type": "code",
   "execution_count": 16,
   "metadata": {},
   "outputs": [
    {
     "name": "stdout",
     "output_type": "stream",
     "text": [
      "Added parcels to the map.\n",
      "Added schools to the map.\n",
      "Added streets to the map.\n",
      "Added tornado to the map.\n",
      "Added Eltornado_Buffer to the map.\n",
      "Added ElTornadoBuffer_200_Meters to the map.\n",
      "Added ElTornadoBuffer_300_Meters to the map.\n",
      "Added ElTornadoBuffer_100_Meters to the map.\n"
     ]
    }
   ],
   "source": [
    "# Defino directorio principal\n",
    "import arcpy \n",
    "import os\n",
    "\n",
    "gdb_path=r\"C:\\Users\\af.camacho1169\\Documents\\ArcGIS\\Projects\\MyProject\\start\\Tornado.gdb\"\n",
    "# Set the workspace to your geodatabase\n",
    "arcpy.env.workspace = gdb_path\n",
    "\n",
    "#Lista de las objetos dentro de mi path\n",
    "feature_classes = arcpy.ListFeatureClasses()\n",
    "\n",
    "# Loop through each feature class and add it to the current map\n",
    "project = arcpy.mp.ArcGISProject(\"CURRENT\")\n",
    "map = project.listMaps()[0]  # Assuming you want to add to the first map in the project\n",
    "\n",
    "for fc in feature_classes:\n",
    "    layer = map.addDataFromPath(os.path.join(gdb_path, fc))\n",
    "    print(f\"Added {fc} to the map.\")\n",
    "\n"
   ]
  },
  {
   "cell_type": "code",
   "execution_count": 12,
   "metadata": {},
   "outputs": [],
   "source": [
    "def remove_non_basemap_layers():\n",
    "    # Get the current project and the first map\n",
    "    project = arcpy.mp.ArcGISProject(\"CURRENT\")\n",
    "    map = project.listMaps()[0]\n",
    "\n",
    "    # Iterate through all layers\n",
    "    for layer in map.listLayers():\n",
    "        # Check if the layer is not a basemap\n",
    "        if not layer.isBasemapLayer:\n",
    "            # Remove the layer\n",
    "            map.removeLayer(layer)\n",
    "            #print(f\"Removed layer: {layer.name}\")\n",
    "\n",
    "    # Save the project\n",
    "    project.save()\n",
    "\n",
    "    print(\"All non-basemap layers have been removed.\")\n",
    "\n",
    "# Call the function\n",
    "#remove_non_basemap_layers()\n"
   ]
  },
  {
   "cell_type": "code",
   "execution_count": 15,
   "metadata": {},
   "outputs": [
    {
     "name": "stdout",
     "output_type": "stream",
     "text": [
      "All non-basemap layers have been removed.\n"
     ]
    }
   ],
   "source": [
    "remove_non_basemap_layers()"
   ]
  },
  {
   "cell_type": "markdown",
   "metadata": {},
   "source": [
    "## Queremos estimar un área de influencia usando\n",
    "- Buffer (area de influencia) al rededor de la capa tornado:\n",
    "    - 500 metros al rededor de la zona de influencia\n",
    "    - end point: redondo\n",
    "- Seleccionar todas las parcelas que cruzan con el área de influencia"
   ]
  },
  {
   "cell_type": "code",
   "execution_count": 16,
   "metadata": {},
   "outputs": [],
   "source": [
    "# Correctly format the output path\n",
    "output_feature_class = os.path.join(gdb_path, \"Eltornado_Buffer\")\n",
    "distancia_del_buffer=\"250 Meters\""
   ]
  },
  {
   "cell_type": "code",
   "execution_count": 17,
   "metadata": {},
   "outputs": [
    {
     "data": {
      "text/html": [
       "<div class='gpresult'><h2>Messages</h2><div id='messages' data-messages='[\"Tiempo de Inicio: martes, 21 de noviembre de 2023 4:45:07 p.\\u00A0m.\",\"Completado correctamente el martes, 21 de noviembre de 2023 4:45:08 p.\\u00A0m. (Tiempo transcurrido: 0,90 segundos)\"]' data-show='true'><div id = 'default' /></div></div>"
      ],
      "text/plain": [
       "<Result 'C:\\\\Users\\\\af.camacho1169\\\\Documents\\\\ArcGIS\\\\Projects\\\\MyProject\\\\start\\\\Tornado.gdb\\\\Eltornado_Buffer'>"
      ]
     },
     "execution_count": 17,
     "metadata": {},
     "output_type": "execute_result"
    }
   ],
   "source": [
    "arcpy.analysis.Buffer(\"tornado\",\n",
    "                      output_feature_class,\n",
    "                      distancia_del_buffer,\n",
    "                      \"FULL\",\n",
    "                      \"ROUND\",\n",
    "                      \"ALL\",\n",
    "                      None,\n",
    "                      \"GEODESIC\")"
   ]
  },
  {
   "cell_type": "markdown",
   "metadata": {},
   "source": [
    "### La iteración de los loops"
   ]
  },
  {
   "cell_type": "code",
   "execution_count": 2,
   "metadata": {},
   "outputs": [],
   "source": [
    "# Vector de distancais\n",
    "distancias = [\"100 Meters\", \"200 Meters\", \"300 Meters\"]"
   ]
  },
  {
   "cell_type": "code",
   "execution_count": 11,
   "metadata": {},
   "outputs": [],
   "source": [
    "import arcpy\n",
    "#Loop que recrorra esas distintas distancias \n",
    "for d in distancias: \n",
    "    #Formatear la ruta de salida \n",
    "    out_file=os.path.join(gdb_path, f\"ElTornadoBuffer_{d.replace(' ','_')}\")\n",
    "\n",
    "    # Llamo la función buffer \n",
    "    arcpy.analysis.Buffer(\"tornado\",\n",
    "                      out_file,\n",
    "                      d,\n",
    "                      \"FULL\",\n",
    "                      \"ROUND\",\n",
    "                      \"ALL\",\n",
    "                      None,\n",
    "                      \"GEODESIC\")"
   ]
  },
  {
   "cell_type": "markdown",
   "metadata": {},
   "source": [
    "## Selección de los predios dañados por el tornado\n",
    "\n",
    "Queremos estimar el 80% del valor de las parcelas que están dentro de la zona de influencia del buffer:\n",
    "\n",
    "Para esto podemos usar la herramienta spatial join, podemos también usar seleccionar por ubicación. "
   ]
  },
  {
   "cell_type": "code",
   "execution_count": 23,
   "metadata": {},
   "outputs": [
    {
     "name": "stdout",
     "output_type": "stream",
     "text": [
      "Dstancia 100 Meters , valor dañado : 19600440.0\n",
      "Dstancia 200 Meters , valor dañado : 24898287.200000003\n",
      "Dstancia 300 Meters , valor dañado : 33231825.6\n"
     ]
    }
   ],
   "source": [
    "import arcpy\n",
    "import os\n",
    "\n",
    "gdb_path=r\"C:\\Users\\af.camacho1169\\Documents\\ArcGIS\\Projects\\MyProject\\start\\Tornado.gdb\"\n",
    "# Set the workspace to your geodatabase\n",
    "arcpy.env.workspace = gdb_path\n",
    "arcpy.env.overwriteOutput=True\n",
    "\n",
    "distancias = [\"100 Meters\", \"200 Meters\", \"300 Meters\"]\n",
    "\n",
    "#Deseleccionar cualquier capa: \n",
    "arcpy.management.SelectLayerByAttribute('parcels', 'CLEAR_SELECTION')\n",
    "\n",
    "\n",
    "#Loop que recrorra esas distintas distancias \n",
    "for d in distancias: \n",
    "    #Formatear la ruta de salida \n",
    "    out_file=os.path.join(gdb_path, f\"FTornadoBuffer_{d.replace(' ','_')}\")\n",
    "    \n",
    "    if arcpy.Exists(out_file):\n",
    "                          arcpy.Delete_management(out_file)\n",
    "                          \n",
    "    # Llamo la función buffer \n",
    "    arcpy.analysis.Buffer(\"tornado\",\n",
    "                      out_file,\n",
    "                      d,\n",
    "                      \"FULL\",\n",
    "                      \"ROUND\",\n",
    "                      \"ALL\",\n",
    "                      None,\n",
    "                      \"GEODESIC\")\n",
    "                          \n",
    "                          \n",
    "    #Seleccionamos parcelas que se intersectan con ese buffer: \n",
    "                          \n",
    "    arcpy.management.SelectLayerByLocation('parcels', \"INTERSECT\", out_file)\n",
    "                          \n",
    "    #Sumamos el valor de los edificios \n",
    "    suma_valor_edificio=0\n",
    "                          \n",
    "    with arcpy.da.SearchCursor('parcels', [\"BLDGVAL\"]) as cursor: \n",
    "                          for row in cursor:\n",
    "                              suma_valor_edificio+=row[0]\n",
    "    #El 80% del valor total: \n",
    "    valor_80_pc=suma_valor_edificio*0.8\n",
    "                          \n",
    "    #Mostramos el resultado\n",
    "    print(f\"Dstancia {d} , valor dañado : {valor_80_pc}\")\n",
    "                          "
   ]
  },
  {
   "cell_type": "code",
   "execution_count": null,
   "metadata": {},
   "outputs": [],
   "source": []
  }
 ],
 "metadata": {
  "kernelspec": {
   "display_name": "ArcGISPro",
   "language": "Python",
   "name": "python3"
  },
  "language_info": {
   "file_extension": ".py",
   "name": "python",
   "version": "3"
  }
 },
 "nbformat": 4,
 "nbformat_minor": 2
}
