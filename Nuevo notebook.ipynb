{
 "cells": [
  {
   "cell_type": "markdown",
   "metadata": {},
   "source": [
    "# Clase 14:\n",
    "\n",
    "## Parte 1\n",
    "\n",
    "En esta clase aprenderemos: \n",
    "- Usar python\n",
    "- Integrar Python con ArcGIS\n",
    "- Usar Chat GPT para ambas cosas\n",
    "\n"
   ]
  },
  {
   "cell_type": "code",
   "execution_count": 1,
   "metadata": {},
   "outputs": [
    {
     "name": "stdout",
     "output_type": "stream",
     "text": [
      "Python version: 3.9.11\n"
     ]
    }
   ],
   "source": [
    "import platform\n",
    "\n",
    "# Print the Python version\n",
    "print(\"Python version:\", platform.python_version())\n"
   ]
  },
  {
   "cell_type": "code",
   "execution_count": 2,
   "metadata": {},
   "outputs": [
    {
     "name": "stdout",
     "output_type": "stream",
     "text": [
      "Directorio actual: C:\\Users\\af.camacho1169\\Documents\\ArcGIS\\Projects\\MyProject\n"
     ]
    }
   ],
   "source": [
    "import os\n",
    "\n",
    "# Obtener el directorio de trabajo actual\n",
    "current_directory = os.getcwd()\n",
    "\n",
    "print(\"Directorio actual:\", current_directory)\n"
   ]
  },
  {
   "cell_type": "code",
   "execution_count": 10,
   "metadata": {},
   "outputs": [
    {
     "name": "stdout",
     "output_type": "stream",
     "text": [
      "Added parcels to the map.\n",
      "Added schools to the map.\n",
      "Added streets to the map.\n",
      "Added tornado to the map.\n"
     ]
    }
   ],
   "source": [
    "# Defino directorio principal\n",
    "import arcpy \n",
    "import os\n",
    "\n",
    "gdb_path=r\"C:\\Users\\af.camacho1169\\Documents\\ArcGIS\\Projects\\MyProject\\start\\Tornado.gdb\"\n",
    "# Set the workspace to your geodatabase\n",
    "arcpy.env.workspace = gdb_path\n",
    "\n",
    "#Lista de las objetos dentro de mi path\n",
    "feature_classes = arcpy.ListFeatureClasses()\n",
    "\n",
    "# Loop through each feature class and add it to the current map\n",
    "project = arcpy.mp.ArcGISProject(\"CURRENT\")\n",
    "map = project.listMaps()[0]  # Assuming you want to add to the first map in the project\n",
    "\n",
    "for fc in feature_classes:\n",
    "    layer = map.addDataFromPath(os.path.join(gdb_path, fc))\n",
    "    print(f\"Added {fc} to the map.\")\n",
    "\n"
   ]
  },
  {
   "cell_type": "code",
   "execution_count": 9,
   "metadata": {},
   "outputs": [
    {
     "name": "stdout",
     "output_type": "stream",
     "text": [
      "All non-basemap layers have been removed.\n"
     ]
    }
   ],
   "source": [
    "def remove_non_basemap_layers():\n",
    "    # Get the current project and the first map\n",
    "    project = arcpy.mp.ArcGISProject(\"CURRENT\")\n",
    "    map = project.listMaps()[0]\n",
    "\n",
    "    # Iterate through all layers\n",
    "    for layer in map.listLayers():\n",
    "        # Check if the layer is not a basemap\n",
    "        if not layer.isBasemapLayer:\n",
    "            # Remove the layer\n",
    "            map.removeLayer(layer)\n",
    "            #print(f\"Removed layer: {layer.name}\")\n",
    "\n",
    "    # Save the project\n",
    "    project.save()\n",
    "\n",
    "    print(\"All non-basemap layers have been removed.\")\n",
    "\n",
    "# Call the function\n",
    "#remove_non_basemap_layers()\n"
   ]
  },
  {
   "cell_type": "markdown",
   "metadata": {},
   "source": [
    "## Queremos estimar un área de influencie usando\n",
    "- Buffer (area de influencia) al rededor de la capa tornado:\n",
    "    - 500 metros al rededor de la zona de influencia\n",
    "    - end point: redondo\n",
    "- Seleccionar todas las parcelas que cruzan con el área de influencia"
   ]
  },
  {
   "cell_type": "code",
   "execution_count": 16,
   "metadata": {},
   "outputs": [],
   "source": [
    "# Correctly format the output path\n",
    "output_feature_class = os.path.join(gdb_path, \"Eltornado_Buffer\")\n",
    "distancia_del_buffer=\"250 Meters\""
   ]
  },
  {
   "cell_type": "code",
   "execution_count": 17,
   "metadata": {},
   "outputs": [
    {
     "data": {
      "text/html": [
       "<div class='gpresult'><h2>Messages</h2><div id='messages' data-messages='[\"Tiempo de Inicio: martes, 21 de noviembre de 2023 4:45:07 p.\\u00A0m.\",\"Completado correctamente el martes, 21 de noviembre de 2023 4:45:08 p.\\u00A0m. (Tiempo transcurrido: 0,90 segundos)\"]' data-show='true'><div id = 'default' /></div></div>"
      ],
      "text/plain": [
       "<Result 'C:\\\\Users\\\\af.camacho1169\\\\Documents\\\\ArcGIS\\\\Projects\\\\MyProject\\\\start\\\\Tornado.gdb\\\\Eltornado_Buffer'>"
      ]
     },
     "execution_count": 17,
     "metadata": {},
     "output_type": "execute_result"
    }
   ],
   "source": [
    "arcpy.analysis.Buffer(\"tornado\",\n",
    "                      output_feature_class,\n",
    "                      distancia_del_buffer,\n",
    "                      \"FULL\",\n",
    "                      \"ROUND\",\n",
    "                      \"ALL\",\n",
    "                      None,\n",
    "                      \"GEODESIC\")"
   ]
  },
  {
   "cell_type": "code",
   "execution_count": null,
   "metadata": {},
   "outputs": [],
   "source": []
  }
 ],
 "metadata": {
  "kernelspec": {
   "display_name": "ArcGISPro",
   "language": "Python",
   "name": "python3"
  },
  "language_info": {
   "file_extension": ".py",
   "name": "python",
   "version": "3"
  }
 },
 "nbformat": 4,
 "nbformat_minor": 2
}
