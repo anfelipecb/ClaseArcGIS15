{
 "cells": [
  {
   "cell_type": "markdown",
   "metadata": {},
   "source": [
    "# Clase 15 ArcGIS\n",
    "\n",
    "<p align=\"left\">\n",
    "  <img src=\"https://pbs.twimg.com/profile_images/643519042930802688/6mXCeY-k.jpg\" alt=\"Uandes\" width=\"100\"/>\n",
    "</p>\n",
    "\n",
    "\n",
    "- Funciones en python\n",
    "- Cargar los datos de una carpeta\n",
    "- Cómo limpiar el espacio de trabajo \n",
    "- Buffers con código y loops\n",
    "\n",
    "---\n",
    "\n",
    "> Note: esto es para `resaltar` "
   ]
  },
  {
   "cell_type": "code",
   "execution_count": 2,
   "metadata": {},
   "outputs": [],
   "source": [
    "import arcpy"
   ]
  },
  {
   "cell_type": "code",
   "execution_count": 4,
   "metadata": {},
   "outputs": [
    {
     "name": "stdout",
     "output_type": "stream",
     "text": [
      "Python version: 3.9.18\n"
     ]
    }
   ],
   "source": [
    "import platform\n",
    "\n",
    "# Print the Python version\n",
    "print(\"Python version:\", platform.python_version())"
   ]
  },
  {
   "cell_type": "code",
   "execution_count": 15,
   "metadata": {},
   "outputs": [
    {
     "name": "stdout",
     "output_type": "stream",
     "text": [
      "Added parcels to the map.\n",
      "Added schools to the map.\n",
      "Added streets to the map.\n",
      "Added tornado to the map.\n"
     ]
    }
   ],
   "source": [
    "import arcpy, os\n",
    "# Ruta a la geodatabase\n",
    "gdb_path = r\"C:\\Users\\SAML107\\Downloads\\start (1)\\start\\Tornado.gdb\"\n",
    "\n",
    "# Obtener la lista de todas las clases de entidad en la geodatabase\n",
    "arcpy.env.workspace = gdb_path\n",
    "feature_classes = arcpy.ListFeatureClasses()\n",
    "\n",
    "# Loop through each feature class and add it to the current map\n",
    "project = arcpy.mp.ArcGISProject(\"CURRENT\")\n",
    "map = project.listMaps()[0]  # Assuming you want to add to the first map in the project\n",
    "\n",
    "for fc in feature_classes:\n",
    "    layer = map.addDataFromPath(os.path.join(gdb_path, fc))\n",
    "    print(f\"Added {fc} to the map.\")\n"
   ]
  },
  {
   "cell_type": "code",
   "execution_count": 13,
   "metadata": {},
   "outputs": [],
   "source": [
    "def remove_non_basemap_layers():\n",
    "    # Get the current project and the first map\n",
    "    project = arcpy.mp.ArcGISProject(\"CURRENT\")\n",
    "    map = project.listMaps()[0]\n",
    "\n",
    "    # Iterate through all layers\n",
    "    for layer in map.listLayers():\n",
    "        # Check if the layer is not a basemap\n",
    "        if not layer.isBasemapLayer:\n",
    "            # Remove the layer\n",
    "            map.removeLayer(layer)\n",
    "            #print(f\"Removed layer: {layer.name}\")\n",
    "\n",
    "    # Save the project\n",
    "    project.save()\n",
    "\n",
    "    print(\"All non-basemap layers have been removed.\")\n",
    "\n",
    "# Call the function"
   ]
  },
  {
   "cell_type": "code",
   "execution_count": 14,
   "metadata": {
    "scrolled": false
   },
   "outputs": [
    {
     "name": "stdout",
     "output_type": "stream",
     "text": [
      "All non-basemap layers have been removed.\n"
     ]
    }
   ],
   "source": [
    "remove_non_basemap_layers()"
   ]
  },
  {
   "cell_type": "markdown",
   "metadata": {},
   "source": [
    "### Area de influencia"
   ]
  },
  {
   "cell_type": "code",
   "execution_count": null,
   "metadata": {},
   "outputs": [],
   "source": [
    "arcpy.analysis.Buffer(\n",
    "    in_features=\"tornado\",\n",
    "    out_feature_class=r\"C:\\Users\\SAML107\\Documents\\ArcGIS\\Projects\\Clase 15\\Clase 15.gdb\\tornado_Buffer\",\n",
    "    buffer_distance_or_field=\"250 Meters\",\n",
    "    line_side=\"FULL\",\n",
    "    line_end_type=\"ROUND\",\n",
    "    dissolve_option=\"NONE\",\n",
    "    dissolve_field=None,\n",
    "    method=\"GEODESIC\"\n",
    ")"
   ]
  }
 ],
 "metadata": {
  "kernelspec": {
   "display_name": "ArcGISPro",
   "language": "Python",
   "name": "python3"
  },
  "language_info": {
   "file_extension": ".py",
   "name": "python",
   "version": "3"
  }
 },
 "nbformat": 4,
 "nbformat_minor": 2
}
